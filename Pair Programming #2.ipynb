{
 "cells": [
  {
   "cell_type": "code",
   "execution_count": 7,
   "metadata": {},
   "outputs": [
    {
     "name": "stdout",
     "output_type": "stream",
     "text": [
      "Enter your package name blue\n",
      "Enter the amount of additional GB you used 5\n"
     ]
    }
   ],
   "source": [
    "# // This program calculates the prices of three cell phone plans based on the data used\n",
    "\n",
    "#enter the cell phone package\n",
    "package = input(\"Enter your package name \")\n",
    "#enter the amount of additional data that you used\n",
    "data = input(\"Enter the amount of additional GB you used \")\n",
    "\n",
    "#if you have the green package your cost is the amount of data * 15 plus 49.99\n",
    "\n",
    "if package.casefold() == 'green':\n",
    "    cost = float(int(data)) * 15 + 49.99 \n",
    "#if your package is the green plan you are eligble for a coupon\n",
    "\n",
    "    coupon = input(\"Do you have a $20 off a $75 bill coupon? \")\n",
    "    yes = True\n",
    "    no = False\n",
    "#if you have a green plan, have a coupon, and the bill is over 75 you are eligible for 20 off otherwise you are charged full  \n",
    "\n",
    "    if coupon == 'yes' and cost >= 75.00:\n",
    "        cost = cost - 20 \n",
    "    else:\n",
    "        cost=cost\n",
    "#if the package is blue your cost is the amount of data * 10 + 70\n",
    "#if the package is purple your cost is 99.95\n",
    "elif package.casefold() == 'blue':\n",
    "    cost = float(int(data)) * 10 + 70.00\n",
    "elif package.casefold() == 'purple':\n",
    "    cost = 99.95\n",
    "else:\n",
    "    print('You have entered an invalid package name. Please re-enter a valid package name')\n",
    " \n",
    "    "
   ]
  },
  {
   "cell_type": "code",
   "execution_count": 8,
   "metadata": {},
   "outputs": [
    {
     "name": "stdout",
     "output_type": "stream",
     "text": [
      "Your total monthly payment is: $ 120.0\n"
     ]
    }
   ],
   "source": [
    "#round to two decimal places and show cost of plan\n",
    "x = round(cost,2)\n",
    "print(\"Your total monthly payment is: $\",x)"
   ]
  },
  {
   "cell_type": "code",
   "execution_count": null,
   "metadata": {},
   "outputs": [],
   "source": []
  }
 ],
 "metadata": {
  "kernelspec": {
   "display_name": "Python 3",
   "language": "python",
   "name": "python3"
  },
  "language_info": {
   "codemirror_mode": {
    "name": "ipython",
    "version": 3
   },
   "file_extension": ".py",
   "mimetype": "text/x-python",
   "name": "python",
   "nbconvert_exporter": "python",
   "pygments_lexer": "ipython3",
   "version": "3.8.3"
  }
 },
 "nbformat": 4,
 "nbformat_minor": 4
}
