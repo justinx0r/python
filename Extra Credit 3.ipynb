{
 "cells": [
  {
   "cell_type": "code",
   "execution_count": 64,
   "metadata": {},
   "outputs": [
    {
     "name": "stdout",
     "output_type": "stream",
     "text": [
      "This will calculate the price of flooring\n",
      "\n",
      "Enter the length of room # 1: 40\n",
      "Enter the width of room # 1: 20\n",
      "Choose your flooring: tile\n",
      "The cost of room # 1 is: $3992.0\n",
      "Enter the length of room # 2: 40\n",
      "Enter the width of room # 2: 20\n",
      "Choose your flooring: hardwood\n",
      "The cost of room # 2 is: $1112.0\n",
      "Enter the length of room # 3: 50\n",
      "Enter the width of room # 3: 10\n",
      "Choose your flooring: 500\n",
      "This flooring option is wrong. The price for this room will not be calculated\n",
      "The cost of room # 3 is: $0\n",
      "Enter the length of room # 4: 40\n",
      "Enter the width of room # 4: 20\n",
      "Choose your flooring: carpet\n",
      "The cost of room # 4 is: $3192.0\n",
      "Enter the length of room # 5: 200\n",
      "Enter the width of room # 5: 100000\n",
      "Choose your flooring: hardwood\n",
      "The cost of room # 5 is: $27800000.0\n",
      "The total cost of the home's flooring is: $ 27808296.0\n"
     ]
    }
   ],
   "source": [
    "\"\"\"This Python script will calculate the pricing of floors for 5 rooms, both individually and as a total cost depending on the calculated area of each room and the flooring type chosen\"\"\"\n",
    "\n",
    "print(\"This will calculate the price of flooring\\n\") #Insert a print statement informing user that the program will calculate the cost of flooring. \n",
    "\n",
    "def area(length = None,width = None ): # Insert a function defined as 'area' with 2 parameters: 'length' and 'width', both with default values of 0.  \n",
    "     return length * width # The function returns length * width.\n",
    "\n",
    "def floor_price(name,product): # Insert a function defined as 'floor_price' with 2 parameters: 'name' and 'product'. \n",
    "    if name.casefold().strip() == 'hardwood': # Within the floor_price function, insert an if statement with casefold and strip functions. \n",
    "        return product * 1.39 # If the name entered is 'hardwood', return: product * 1.39.\n",
    "    \n",
    "    elif name.casefold().strip() == 'carpet': # Insert an elif statement with casefold and strip functions.\n",
    "        return product * 3.99 # Elif name is 'carpet', return: product * 3.99\n",
    "   \n",
    "    \n",
    "    elif name.casefold().strip() == 'tile': # Insert another elif statement with casefold and strip functions. \n",
    "        return product * 4.99 # Elif name is 'tile', return product * 4.99\n",
    "    \n",
    "    else: #  Insert an else statement. Return: 0 if any other flooring option is entered. \n",
    "        print('This flooring option is wrong. The price for this room will not be calculated') # If anything else is entered, print \"This flooring option is not valid. The price for the room will not be calculated'. \n",
    "        return 0 \n",
    "\n",
    "def main(): # Insert a function defined as 'main' with no parameters.\n",
    "    \n",
    "    totalcost = 0 # Assign 0 to variable 'totalcost'. This will serve as our counter.\n",
    "    \n",
    "    for i in range(5):# Insert a 'for' statement. For i in range(5): This will allow us to loop the main function 5 times to calculate the cost for each room. \n",
    "\n",
    "        length = float(input(f'Enter the length of room # {i+1}: ')) #Set variable 'length' to take user input for the length of a room with a float function. f-string and value of i+1 to count the room number. \n",
    "        \n",
    "        width = float(input(f'Enter the width of room # {i+1}: ')) #Set variable 'width' to take user input for the width of a room with a float function. f-string and value of i+1 to count the room number. \n",
    "        \n",
    "        floor = input('Choose your flooring: ') #Set variable 'floor' to take user input for flooring type.\n",
    "        \n",
    "        product = area(length,width)#Set variable 'product' to hold the 'area' function with parameters 'length' and 'width'. This will hold the area for each room. \n",
    "        \n",
    "        floorcost = floor_price(floor,product) #Set variable 'floor cost' to hold 'floor_price' function with parameters 'floor' and 'product'. This variable will give us the cost of flooring for each room. \n",
    "        \n",
    "        totalcost+=floorcost #Set the 'totalcost' to add the 'floorcost' variable for each iteration. \n",
    "        \n",
    "        print(f'The cost of room # {i+1} is: ${round(floorcost,2)}') #Insert a print statement with f-string showing the cost for each room, with a round function to print only up to 2 decimal places. \n",
    "\n",
    "        \n",
    "    print(f\"The total cost of the home's flooring is: $ {round(totalcost,2)}\") # Insert a print statement displaying the total cost for all 5 rooms with a round function. \n",
    "\n",
    "main() #Call the 'main' function to start the program. "
   ]
  },
  {
   "cell_type": "code",
   "execution_count": null,
   "metadata": {},
   "outputs": [],
   "source": []
  },
  {
   "cell_type": "code",
   "execution_count": null,
   "metadata": {},
   "outputs": [],
   "source": []
  }
 ],
 "metadata": {
  "kernelspec": {
   "display_name": "Python 3",
   "language": "python",
   "name": "python3"
  },
  "language_info": {
   "codemirror_mode": {
    "name": "ipython",
    "version": 3
   },
   "file_extension": ".py",
   "mimetype": "text/x-python",
   "name": "python",
   "nbconvert_exporter": "python",
   "pygments_lexer": "ipython3",
   "version": "3.8.3"
  }
 },
 "nbformat": 4,
 "nbformat_minor": 4
}
