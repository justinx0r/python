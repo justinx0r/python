{
 "cells": [
  {
   "cell_type": "code",
   "execution_count": 5,
   "metadata": {},
   "outputs": [
    {
     "name": "stdout",
     "output_type": "stream",
     "text": [
      "x = 2\n",
      "Value of 2 + 2 is 4\n",
      "x =\n",
      "5 = 5\n"
     ]
    }
   ],
   "source": [
    "\"\"\"Assignment 1 problems 2.1 - 2.12\"\"\"\n",
    "\n",
    "#2.1\n",
    "\n",
    "x = 2\n",
    "y = 3\n",
    "\n",
    "#a - this just shows x = 2 as the result\n",
    "print ('x =', x)\n",
    "\n",
    "#b = this prints the string Value of, calls the x variable, prints the + sign, calls the x variable again, and then adds the variable to itself\n",
    "print('Value of', x, '+', x, 'is', (x+x))\n",
    "\n",
    "#c - prints x =\n",
    "print('x =')\n",
    "\n",
    "#d - this adds the x and y variables, prints the equal sign, then adds the x and y variables again\n",
    "print((x+y), '=', (y + x))\n"
   ]
  },
  {
   "cell_type": "code",
   "execution_count": 46,
   "metadata": {},
   "outputs": [
    {
     "name": "stdout",
     "output_type": "stream",
     "text": [
      "Enter an integer rating between 1 and 10: 2\n"
     ]
    }
   ],
   "source": [
    "#2.2 - since i sent rating as an int the code will bomb out if you try to enter a non-integer\n",
    "rating = input('Enter an integer rating between 1 and 10: ')\n",
    "value = int(rating)\n"
   ]
  },
  {
   "cell_type": "code",
   "execution_count": 31,
   "metadata": {},
   "outputs": [
    {
     "name": "stdout",
     "output_type": "stream",
     "text": [
      "A\n"
     ]
    }
   ],
   "source": [
    "#2.3\n",
    "grade = 98\n",
    "\n",
    "if grade >= 90:\n",
    "    print('A')"
   ]
  },
  {
   "cell_type": "code",
   "execution_count": 33,
   "metadata": {},
   "outputs": [
    {
     "name": "stdout",
     "output_type": "stream",
     "text": [
      "29.5\n",
      "25.5\n",
      "55.0\n",
      "13.75\n",
      "13.0\n",
      "756.25\n"
     ]
    }
   ],
   "source": [
    "#2.4\n",
    "\n",
    "x = 27.5\n",
    "y = 2\n",
    "\n",
    "print(x + y)\n",
    "print(x - y)\n",
    "print(x * y)\n",
    "print(x / y)\n",
    "print(x//y)\n",
    "print(x**y)"
   ]
  },
  {
   "cell_type": "code",
   "execution_count": 52,
   "metadata": {},
   "outputs": [
    {
     "ename": "NameError",
     "evalue": "name 'raidus' is not defined",
     "output_type": "error",
     "traceback": [
      "\u001b[1;31m---------------------------------------------------------------------------\u001b[0m",
      "\u001b[1;31mNameError\u001b[0m                                 Traceback (most recent call last)",
      "\u001b[1;32m<ipython-input-52-cddcf17dcf4a>\u001b[0m in \u001b[0;36m<module>\u001b[1;34m\u001b[0m\n\u001b[0;32m      5\u001b[0m \u001b[0mdiameter\u001b[0m \u001b[1;33m=\u001b[0m \u001b[1;36m2\u001b[0m \u001b[1;33m*\u001b[0m \u001b[0mradius\u001b[0m\u001b[1;33m\u001b[0m\u001b[1;33m\u001b[0m\u001b[0m\n\u001b[0;32m      6\u001b[0m \u001b[0mcircumfrence\u001b[0m \u001b[1;33m=\u001b[0m \u001b[1;36m2\u001b[0m \u001b[1;33m*\u001b[0m \u001b[0mpi\u001b[0m \u001b[1;33m*\u001b[0m \u001b[0mradius\u001b[0m\u001b[1;33m\u001b[0m\u001b[1;33m\u001b[0m\u001b[0m\n\u001b[1;32m----> 7\u001b[1;33m \u001b[0marea\u001b[0m \u001b[1;33m=\u001b[0m \u001b[0mpi\u001b[0m \u001b[1;33m*\u001b[0m \u001b[0mraidus\u001b[0m\u001b[1;33m**\u001b[0m\u001b[1;36m2\u001b[0m\u001b[1;33m\u001b[0m\u001b[1;33m\u001b[0m\u001b[0m\n\u001b[0m",
      "\u001b[1;31mNameError\u001b[0m: name 'raidus' is not defined"
     ]
    }
   ],
   "source": [
    "#2.5\n",
    "\n",
    "pi = 3.14159\n",
    "radius = 2\n",
    "diameter = 2 * radius\n",
    "circumfrence = 2 * pi * radius\n",
    "area = pi * raidus**2"
   ]
  },
  {
   "cell_type": "code",
   "execution_count": 37,
   "metadata": {},
   "outputs": [
    {
     "name": "stdout",
     "output_type": "stream",
     "text": [
      "Odd or even number: 3\n",
      "Odd number of:  3\n"
     ]
    }
   ],
   "source": [
    "#2.6\n",
    "\n",
    "num = int(input(\"Odd or even number: \"))\n",
    "if (num % 2) == 0:\n",
    "    print('Even number of: ', format(num))\n",
    "else:\n",
    "    print('Odd number of: ', format(num))"
   ]
  },
  {
   "cell_type": "code",
   "execution_count": 45,
   "metadata": {},
   "outputs": [
    {
     "name": "stdout",
     "output_type": "stream",
     "text": [
      "Multiple of 4: 1024\n",
      "Multiple of 4\n",
      "Multliple of 10: 2\n",
      "Multiple of 10\n"
     ]
    }
   ],
   "source": [
    "#2.7\n",
    "\n",
    "#1024 is a multiple of 4? Enter 1024 in the input prompt to verify.\n",
    "num = int(input(\"Multiple of 4: \"))\n",
    "if num % 4 == 0:\n",
    "    print('Multiple of 4')\n",
    "else :\n",
    "    print('Not a multiple of 4')\n",
    "    \n",
    "#2 is a multiple of 10? Enter 2 in the input prompt to verify.\n",
    "num = int(input(\"Multliple of 10: \"))\n",
    "if num % 2 == 0:\n",
    "    print('Multiple of 10')\n",
    "else :\n",
    "    print('Not a multiple of 10')"
   ]
  },
  {
   "cell_type": "code",
   "execution_count": 25,
   "metadata": {},
   "outputs": [
    {
     "name": "stdout",
     "output_type": "stream",
     "text": [
      "number\tsquare\tcube\n",
      "0\t0\t0\n",
      "1\t1\t1\n",
      "2\t4\t8\n",
      "3\t9\t27\n",
      "4\t16\t64\n",
      "5\t25\t125\n"
     ]
    }
   ],
   "source": [
    "#2.8\n",
    "\n",
    "print('number\\tsquare\\tcube')             \n",
    "for i in range(6):\n",
    "   print('{}\\t{}\\t{}'.format(i,i**2,i**3))"
   ]
  },
  {
   "cell_type": "code",
   "execution_count": 21,
   "metadata": {},
   "outputs": [],
   "source": [
    "#2.9\n",
    "\n",
    "print(ord('B'))\n",
    "print(ord('C'))\n",
    "print(ord('D'))\n",
    "print(ord('b'))\n",
    "print(ord('c'))\n",
    "print(ord('d'))\n",
    "print(ord('0'))\n",
    "print(ord('1'))\n",
    "print(ord('2'))\n",
    "print(ord('5'))\n",
    "print(ord('*'))\n",
    "print(ord('+'))\n",
    "print(ord(' '))"
   ]
  },
  {
   "cell_type": "code",
   "execution_count": 48,
   "metadata": {},
   "outputs": [
    {
     "name": "stdout",
     "output_type": "stream",
     "text": [
      "Sum is:  38481\n",
      "Average is:  12827.0\n",
      "Product is:  694693490048\n",
      "Smallest number is:  2393\n",
      "Largest number is:  23984\n"
     ]
    }
   ],
   "source": [
    "#2.10\n",
    "\n",
    "list = (2393, 12104, 23984)\n",
    "n1 = 2393\n",
    "n2 = 12104\n",
    "n3 = 23984\n",
    "sumn = (n1 + n2 + n3)\n",
    "average = (sumn)/3\n",
    "product = (n1 * n2 * n3)\n",
    "\n",
    "print('Sum is: ', sumn)\n",
    "print('Average is: ', average)\n",
    "print('Product is: ', product)\n",
    "print(\"Smallest number is: \", min(list)) \n",
    "print(\"Largest number is: \", max(list)) \n"
   ]
  },
  {
   "cell_type": "code",
   "execution_count": 57,
   "metadata": {},
   "outputs": [
    {
     "name": "stdout",
     "output_type": "stream",
     "text": [
      "Enter number: 19203\n",
      "1 9 2 0 3 "
     ]
    }
   ],
   "source": [
    "#2.11\n",
    "\n",
    "for number in input(\"Enter number: \"): \n",
    "    print(number, end=' ')"
   ]
  },
  {
   "cell_type": "code",
   "execution_count": 60,
   "metadata": {},
   "outputs": [
    {
     "name": "stdout",
     "output_type": "stream",
     "text": [
      "Principal amount: 1000\n",
      "Enter the  rate: 7\n",
      "Enter the time in years: 30\n",
      "Amount is 7612.26\n"
     ]
    }
   ],
   "source": [
    "#2.12 - you can  enter values for 10, 20, and 30 years in the input box and you will get the correct output\n",
    "#30 years = 7612.26\n",
    "#20 years = 3869.68\n",
    "#10 years = 1967.15\n",
    "\n",
    "def investmentreturn(principle, rate, time):\n",
    "    result = principle * (pow((1 + rate / 100), time))\n",
    "    return result\n",
    "\n",
    "p = float(input(\"Principal amount: \"))\n",
    "r = float(input(\"Enter the  rate: \"))\n",
    "n = float(input(\"Enter the time in years: \"))\n",
    "\n",
    "amount = investmentreturn(p, r, n)\n",
    "interest = amount - p\n",
    "print(\"Amount is %.2f\" % amount)"
   ]
  },
  {
   "cell_type": "code",
   "execution_count": null,
   "metadata": {},
   "outputs": [],
   "source": []
  },
  {
   "cell_type": "code",
   "execution_count": null,
   "metadata": {},
   "outputs": [],
   "source": []
  }
 ],
 "metadata": {
  "kernelspec": {
   "display_name": "Python 3",
   "language": "python",
   "name": "python3"
  },
  "language_info": {
   "codemirror_mode": {
    "name": "ipython",
    "version": 3
   },
   "file_extension": ".py",
   "mimetype": "text/x-python",
   "name": "python",
   "nbconvert_exporter": "python",
   "pygments_lexer": "ipython3",
   "version": "3.8.3"
  }
 },
 "nbformat": 4,
 "nbformat_minor": 4
}
