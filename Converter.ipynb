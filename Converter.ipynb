{
 "cells": [
  {
   "cell_type": "code",
   "execution_count": 29,
   "metadata": {},
   "outputs": [
    {
     "name": "stdout",
     "output_type": "stream",
     "text": [
      "Welcome to the mL Converter\n",
      "Enter your milliliter amount 9\n",
      "0.6 tablespoons and\n",
      "1.8 teaspoons\n"
     ]
    }
   ],
   "source": [
    "\"\"\"mL to Tablespoon and Teaspoon Converter\"\"\"\n",
    "\n",
    "#welcome message\n",
    "print (\"Welcome to the mL Converter\")\n",
    "\n",
    "#mL input, this creates the prompt for the user to enter the amount of mL's to convert\n",
    "mL = float(input (\"Enter your milliliter amount \"))\n",
    "\n",
    "#variables, this defines the calculation for converting mL to tablespoons and teaspoons\n",
    "tablespoon = (mL/15)\n",
    "teaspoon = (mL/5)\n",
    "\n",
    "#conditional logic that doesn't allow a user to continue if the number is zero or negative\n",
    "if mL > 0.00:\n",
    "    print(float(tablespoon), (\"tablespoons or\"))\n",
    "    print(float(teaspoon), (\"teaspoons\"))\n",
    "else:\n",
    "    print(\"Please enter a valid mL amount\")"
   ]
  },
  {
   "cell_type": "code",
   "execution_count": null,
   "metadata": {},
   "outputs": [],
   "source": []
  },
  {
   "cell_type": "code",
   "execution_count": null,
   "metadata": {},
   "outputs": [],
   "source": []
  }
 ],
 "metadata": {
  "kernelspec": {
   "display_name": "Python 3",
   "language": "python",
   "name": "python3"
  },
  "language_info": {
   "codemirror_mode": {
    "name": "ipython",
    "version": 3
   },
   "file_extension": ".py",
   "mimetype": "text/x-python",
   "name": "python",
   "nbconvert_exporter": "python",
   "pygments_lexer": "ipython3",
   "version": "3.8.3"
  }
 },
 "nbformat": 4,
 "nbformat_minor": 4
}
