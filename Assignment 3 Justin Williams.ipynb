{
 "cells": [
  {
   "cell_type": "code",
   "execution_count": 8,
   "metadata": {},
   "outputs": [
    {
     "name": "stdout",
     "output_type": "stream",
     "text": [
      "The cube of 2 is  8\n"
     ]
    }
   ],
   "source": [
    "# // Complete the following exercises: 4.3 – 4.12\n",
    "\n",
    "#4.3 - what is wrong with this code?\n",
    "#I added a main fucntion and within that function defined x as 2, defined the function cube(x), then called them all in a print\n",
    "\n",
    "def cube(x):\n",
    "    \"\"\"Calculate the cube of x.\"\"\"\n",
    "    return x ** 3\n",
    "    #print('The cube of 2 is ', cube(2))\n",
    "    \n",
    "def main():\n",
    "    x = 2\n",
    "    cube_function = cube(x)\n",
    "    print('The cube of 2 is ', cube_function)\n",
    "    \n",
    "if __name__ == \"__main__\":\n",
    "    main()"
   ]
  },
  {
   "cell_type": "code",
   "execution_count": 13,
   "metadata": {},
   "outputs": [],
   "source": [
    "#4.4 - what does this code do?\n",
    "#this code defines a parameter, mystery of x, and then defines the variable y = 0\n",
    "#utilizes a for loop that adds another value with the variable's value and assigns the new value to the variable raised to ^2\n",
    "#and then returns y\n",
    "\n",
    "def mystery(x):\n",
    "    y = 0\n",
    "    for value in x:\n",
    "        y += value ** 2\n",
    "    return y\n"
   ]
  },
  {
   "cell_type": "code",
   "execution_count": 32,
   "metadata": {},
   "outputs": [
    {
     "data": {
      "text/plain": [
       "datetime.timedelta(seconds=52036, microseconds=662457)"
      ]
     },
     "execution_count": 32,
     "metadata": {},
     "output_type": "execute_result"
    }
   ],
   "source": [
    "#4.5\n",
    "\n",
    "def seconds_since_midnight(x):\n",
    "    now = datetime.datetime.now()\n",
    "    midnight = datetime.datetime.combine(now.date(), datetime.time())\n",
    "    hour_in_seconds = 3600\n",
    "    minute_in_seconds = (now - midnight).seconds\n",
    "    return now - midnight \n",
    "\n",
    "seconds_since_midnight(now)"
   ]
  },
  {
   "cell_type": "code",
   "execution_count": 29,
   "metadata": {},
   "outputs": [
    {
     "data": {
      "text/plain": [
       "0"
      ]
     },
     "execution_count": 29,
     "metadata": {},
     "output_type": "execute_result"
    }
   ],
   "source": [
    "#4.6 - average function in Section 4.11\n",
    "#Reimplement avg to receve one required argument and the arbitrary argument list argument *args w/ no ZeroDvisionError\n",
    "\n",
    "def average(*args):\n",
    "    try:\n",
    "        return sum(args) / len(args)\n",
    "    except ZeroDivisionError:\n",
    "        return 0\n",
    "\n",
    "average()"
   ]
  },
  {
   "cell_type": "code",
   "execution_count": 39,
   "metadata": {},
   "outputs": [
    {
     "name": "stdout",
     "output_type": "stream",
     "text": [
      "2020-11-22 14:50:07.094740\n"
     ]
    }
   ],
   "source": [
    "#4.7\n",
    "def now():\n",
    "    print(datetime.datetime.today())\n",
    "\n",
    "now()"
   ]
  },
  {
   "cell_type": "code",
   "execution_count": 41,
   "metadata": {},
   "outputs": [
    {
     "name": "stdout",
     "output_type": "stream",
     "text": [
      "14\n",
      "13.6\n",
      "13.56\n",
      "13.5645\n"
     ]
    }
   ],
   "source": [
    "#4.8\n",
    "#13.56449\n",
    "\n",
    "print(round(13.56449))\n",
    "print(round(13.56449, 1))\n",
    "print(round(13.56449, 2))\n",
    "print(round(13.56449, 3))\n"
   ]
  },
  {
   "cell_type": "code",
   "execution_count": 79,
   "metadata": {},
   "outputs": [
    {
     "name": "stdout",
     "output_type": "stream",
     "text": [
      "\n",
      "This is a farenheit to celcius converter program!\n",
      "Please enter a temperature to convert\n",
      "\n"
     ]
    },
    {
     "ename": "KeyboardInterrupt",
     "evalue": "Interrupted by user",
     "output_type": "error",
     "traceback": [
      "\u001b[1;31m---------------------------------------------------------------------------\u001b[0m",
      "\u001b[1;31mKeyboardInterrupt\u001b[0m                         Traceback (most recent call last)",
      "\u001b[1;32m<ipython-input-79-c5aae6e10ba5>\u001b[0m in \u001b[0;36m<module>\u001b[1;34m\u001b[0m\n\u001b[0;32m      8\u001b[0m     \u001b[0mprint\u001b[0m\u001b[1;33m(\u001b[0m\u001b[0mc\u001b[0m\u001b[1;33m)\u001b[0m\u001b[1;33m\u001b[0m\u001b[1;33m\u001b[0m\u001b[0m\n\u001b[0;32m      9\u001b[0m \u001b[1;33m\u001b[0m\u001b[0m\n\u001b[1;32m---> 10\u001b[1;33m \u001b[0mf\u001b[0m\u001b[1;33m=\u001b[0m\u001b[0mfloat\u001b[0m\u001b[1;33m(\u001b[0m\u001b[0minput\u001b[0m\u001b[1;33m(\u001b[0m\u001b[1;34m\"Enter a temperature in Farenheit \"\u001b[0m\u001b[1;33m)\u001b[0m\u001b[1;33m)\u001b[0m\u001b[1;33m\u001b[0m\u001b[1;33m\u001b[0m\u001b[0m\n\u001b[0m\u001b[0;32m     11\u001b[0m \u001b[1;33m\u001b[0m\u001b[0m\n\u001b[0;32m     12\u001b[0m \u001b[0mtempconvert\u001b[0m\u001b[1;33m(\u001b[0m\u001b[0mfloat\u001b[0m\u001b[1;33m(\u001b[0m\u001b[0mround\u001b[0m\u001b[1;33m(\u001b[0m\u001b[0mf\u001b[0m\u001b[1;33m,\u001b[0m\u001b[1;36m1\u001b[0m\u001b[1;33m)\u001b[0m\u001b[1;33m)\u001b[0m\u001b[1;33m)\u001b[0m\u001b[1;33m\u001b[0m\u001b[1;33m\u001b[0m\u001b[0m\n",
      "\u001b[1;32m~\\anaconda3\\lib\\site-packages\\ipykernel\\kernelbase.py\u001b[0m in \u001b[0;36mraw_input\u001b[1;34m(self, prompt)\u001b[0m\n\u001b[0;32m    858\u001b[0m                 \u001b[1;34m\"raw_input was called, but this frontend does not support input requests.\"\u001b[0m\u001b[1;33m\u001b[0m\u001b[1;33m\u001b[0m\u001b[0m\n\u001b[0;32m    859\u001b[0m             )\n\u001b[1;32m--> 860\u001b[1;33m         return self._input_request(str(prompt),\n\u001b[0m\u001b[0;32m    861\u001b[0m             \u001b[0mself\u001b[0m\u001b[1;33m.\u001b[0m\u001b[0m_parent_ident\u001b[0m\u001b[1;33m,\u001b[0m\u001b[1;33m\u001b[0m\u001b[1;33m\u001b[0m\u001b[0m\n\u001b[0;32m    862\u001b[0m             \u001b[0mself\u001b[0m\u001b[1;33m.\u001b[0m\u001b[0m_parent_header\u001b[0m\u001b[1;33m,\u001b[0m\u001b[1;33m\u001b[0m\u001b[1;33m\u001b[0m\u001b[0m\n",
      "\u001b[1;32m~\\anaconda3\\lib\\site-packages\\ipykernel\\kernelbase.py\u001b[0m in \u001b[0;36m_input_request\u001b[1;34m(self, prompt, ident, parent, password)\u001b[0m\n\u001b[0;32m    902\u001b[0m             \u001b[1;32mexcept\u001b[0m \u001b[0mKeyboardInterrupt\u001b[0m\u001b[1;33m:\u001b[0m\u001b[1;33m\u001b[0m\u001b[1;33m\u001b[0m\u001b[0m\n\u001b[0;32m    903\u001b[0m                 \u001b[1;31m# re-raise KeyboardInterrupt, to truncate traceback\u001b[0m\u001b[1;33m\u001b[0m\u001b[1;33m\u001b[0m\u001b[1;33m\u001b[0m\u001b[0m\n\u001b[1;32m--> 904\u001b[1;33m                 \u001b[1;32mraise\u001b[0m \u001b[0mKeyboardInterrupt\u001b[0m\u001b[1;33m(\u001b[0m\u001b[1;34m\"Interrupted by user\"\u001b[0m\u001b[1;33m)\u001b[0m \u001b[1;32mfrom\u001b[0m \u001b[1;32mNone\u001b[0m\u001b[1;33m\u001b[0m\u001b[1;33m\u001b[0m\u001b[0m\n\u001b[0m\u001b[0;32m    905\u001b[0m             \u001b[1;32mexcept\u001b[0m \u001b[0mException\u001b[0m \u001b[1;32mas\u001b[0m \u001b[0me\u001b[0m\u001b[1;33m:\u001b[0m\u001b[1;33m\u001b[0m\u001b[1;33m\u001b[0m\u001b[0m\n\u001b[0;32m    906\u001b[0m                 \u001b[0mself\u001b[0m\u001b[1;33m.\u001b[0m\u001b[0mlog\u001b[0m\u001b[1;33m.\u001b[0m\u001b[0mwarning\u001b[0m\u001b[1;33m(\u001b[0m\u001b[1;34m\"Invalid Message:\"\u001b[0m\u001b[1;33m,\u001b[0m \u001b[0mexc_info\u001b[0m\u001b[1;33m=\u001b[0m\u001b[1;32mTrue\u001b[0m\u001b[1;33m)\u001b[0m\u001b[1;33m\u001b[0m\u001b[1;33m\u001b[0m\u001b[0m\n",
      "\u001b[1;31mKeyboardInterrupt\u001b[0m: Interrupted by user"
     ]
    }
   ],
   "source": [
    "#4.9\n",
    "\n",
    "print(\"\\nThis is a farenheit to celcius converter program!\")\n",
    "print(\"Please enter a temperature to convert\\n\")\n",
    "\n",
    "def tempconvert(f):\n",
    "    c=float((f-32)*5/9)\n",
    "    print(c)\n",
    "\n",
    "f=float(input(\"Enter a temperature in Farenheit \"))\n",
    "\n",
    "tempconvert(float(round(f,1)))"
   ]
  },
  {
   "cell_type": "code",
   "execution_count": null,
   "metadata": {},
   "outputs": [],
   "source": [
    "#4.10\n",
    "\"\"\"Guess the Number\"\"\"\n",
    "import random\n",
    "\n",
    "the_number = random.randint(1, 1000)\n",
    "tries = 0\n",
    "\n",
    "def script():\n",
    "    for guess in range(1000):\n",
    "        guess = int(input(\"Guess my number between 1 and 1000 with the fewest guesses: \"))\n",
    "        if guess == the_number:\n",
    "            print(\"\\nCongratulations! You've guessed the number!\")\n",
    "            break\n",
    "        elif guess < the_number:\n",
    "            print(\"Too low.Try again.\")\n",
    "        elif guess > the_number:\n",
    "            print(\"Too high. Try again.\")\n",
    "    restart = input(\"Would you like to restart this program?\")\n",
    "    if restart == \"yes\" or restart == \"y\":\n",
    "        script()\n",
    "    if restart == \"n\" or restart == \"no\":\n",
    "        print(\"Ending the game!\")\n",
    "script()"
   ]
  },
  {
   "cell_type": "code",
   "execution_count": 94,
   "metadata": {},
   "outputs": [
    {
     "name": "stdout",
     "output_type": "stream",
     "text": [
      "Guess my number between 1 and 1000 with the fewest guesses: 10\n",
      "Too low. Try again.\n",
      "Guess my number between 1 and 1000 with the fewest guesses: 500\n",
      "Too low. Try again.\n",
      "Guess my number between 1 and 1000 with the fewest guesses: 700\n",
      "Too low. Try again.\n",
      "Guess my number between 1 and 1000 with the fewest guesses: 850\n",
      "Too high. Try again..\n",
      "Guess my number between 1 and 1000 with the fewest guesses: 775\n",
      "Too low. Try again.\n",
      "Guess my number between 1 and 1000 with the fewest guesses: 813\n",
      "Too low. Try again.\n",
      "Guess my number between 1 and 1000 with the fewest guesses: 830\n",
      "Too low. Try again.\n",
      "Guess my number between 1 and 1000 with the fewest guesses: 845\n",
      "Too low. Try again.\n",
      "Guess my number between 1 and 1000 with the fewest guesses: 848\n",
      "Too high. Try again..\n",
      "Guess my number between 1 and 1000 with the fewest guesses: 847\n",
      "\n",
      "Either you know the secret or you got lucky!\n",
      "Would you like to restart this program?y\n"
     ]
    },
    {
     "ename": "KeyboardInterrupt",
     "evalue": "Interrupted by user",
     "output_type": "error",
     "traceback": [
      "\u001b[1;31m---------------------------------------------------------------------------\u001b[0m",
      "\u001b[1;31mKeyboardInterrupt\u001b[0m                         Traceback (most recent call last)",
      "\u001b[1;32m<ipython-input-94-1b15bcca5c98>\u001b[0m in \u001b[0;36m<module>\u001b[1;34m\u001b[0m\n\u001b[0;32m     26\u001b[0m     \u001b[1;32mif\u001b[0m \u001b[0mrestart\u001b[0m \u001b[1;33m==\u001b[0m \u001b[1;34m\"n\"\u001b[0m \u001b[1;32mor\u001b[0m \u001b[0mrestart\u001b[0m \u001b[1;33m==\u001b[0m \u001b[1;34m\"no\"\u001b[0m\u001b[1;33m:\u001b[0m\u001b[1;33m\u001b[0m\u001b[1;33m\u001b[0m\u001b[0m\n\u001b[0;32m     27\u001b[0m         \u001b[0mprint\u001b[0m\u001b[1;33m(\u001b[0m\u001b[1;34m\"Script terminating. Goodbye.\"\u001b[0m\u001b[1;33m)\u001b[0m\u001b[1;33m\u001b[0m\u001b[1;33m\u001b[0m\u001b[0m\n\u001b[1;32m---> 28\u001b[1;33m \u001b[0mscript\u001b[0m\u001b[1;33m(\u001b[0m\u001b[1;33m)\u001b[0m\u001b[1;33m\u001b[0m\u001b[1;33m\u001b[0m\u001b[0m\n\u001b[0m",
      "\u001b[1;32m<ipython-input-94-1b15bcca5c98>\u001b[0m in \u001b[0;36mscript\u001b[1;34m()\u001b[0m\n\u001b[0;32m     23\u001b[0m     \u001b[0mrestart\u001b[0m \u001b[1;33m=\u001b[0m \u001b[0minput\u001b[0m\u001b[1;33m(\u001b[0m\u001b[1;34m\"Would you like to restart this program?\"\u001b[0m\u001b[1;33m)\u001b[0m\u001b[1;33m\u001b[0m\u001b[1;33m\u001b[0m\u001b[0m\n\u001b[0;32m     24\u001b[0m     \u001b[1;32mif\u001b[0m \u001b[0mrestart\u001b[0m \u001b[1;33m==\u001b[0m \u001b[1;34m\"yes\"\u001b[0m \u001b[1;32mor\u001b[0m \u001b[0mrestart\u001b[0m \u001b[1;33m==\u001b[0m \u001b[1;34m\"y\"\u001b[0m\u001b[1;33m:\u001b[0m\u001b[1;33m\u001b[0m\u001b[1;33m\u001b[0m\u001b[0m\n\u001b[1;32m---> 25\u001b[1;33m         \u001b[0mscript\u001b[0m\u001b[1;33m(\u001b[0m\u001b[1;33m)\u001b[0m\u001b[1;33m\u001b[0m\u001b[1;33m\u001b[0m\u001b[0m\n\u001b[0m\u001b[0;32m     26\u001b[0m     \u001b[1;32mif\u001b[0m \u001b[0mrestart\u001b[0m \u001b[1;33m==\u001b[0m \u001b[1;34m\"n\"\u001b[0m \u001b[1;32mor\u001b[0m \u001b[0mrestart\u001b[0m \u001b[1;33m==\u001b[0m \u001b[1;34m\"no\"\u001b[0m\u001b[1;33m:\u001b[0m\u001b[1;33m\u001b[0m\u001b[1;33m\u001b[0m\u001b[0m\n\u001b[0;32m     27\u001b[0m         \u001b[0mprint\u001b[0m\u001b[1;33m(\u001b[0m\u001b[1;34m\"Script terminating. Goodbye.\"\u001b[0m\u001b[1;33m)\u001b[0m\u001b[1;33m\u001b[0m\u001b[1;33m\u001b[0m\u001b[0m\n",
      "\u001b[1;32m<ipython-input-94-1b15bcca5c98>\u001b[0m in \u001b[0;36mscript\u001b[1;34m()\u001b[0m\n\u001b[0;32m      8\u001b[0m \u001b[1;32mdef\u001b[0m \u001b[0mscript\u001b[0m\u001b[1;33m(\u001b[0m\u001b[1;33m)\u001b[0m\u001b[1;33m:\u001b[0m\u001b[1;33m\u001b[0m\u001b[1;33m\u001b[0m\u001b[0m\n\u001b[0;32m      9\u001b[0m     \u001b[1;32mfor\u001b[0m \u001b[0mtries\u001b[0m \u001b[1;32min\u001b[0m \u001b[0mrange\u001b[0m\u001b[1;33m(\u001b[0m\u001b[1;36m10\u001b[0m\u001b[1;33m)\u001b[0m\u001b[1;33m:\u001b[0m\u001b[1;33m\u001b[0m\u001b[1;33m\u001b[0m\u001b[0m\n\u001b[1;32m---> 10\u001b[1;33m         \u001b[0mguess\u001b[0m \u001b[1;33m=\u001b[0m \u001b[0mint\u001b[0m\u001b[1;33m(\u001b[0m\u001b[0minput\u001b[0m\u001b[1;33m(\u001b[0m\u001b[1;34m\"Guess my number between 1 and 1000 with the fewest guesses: \"\u001b[0m\u001b[1;33m)\u001b[0m\u001b[1;33m)\u001b[0m\u001b[1;33m\u001b[0m\u001b[1;33m\u001b[0m\u001b[0m\n\u001b[0m\u001b[0;32m     11\u001b[0m         \u001b[0mtries\u001b[0m \u001b[1;33m+=\u001b[0m \u001b[1;36m1\u001b[0m\u001b[1;33m\u001b[0m\u001b[1;33m\u001b[0m\u001b[0m\n\u001b[0;32m     12\u001b[0m         \u001b[1;32mif\u001b[0m \u001b[0mguess\u001b[0m \u001b[1;33m==\u001b[0m \u001b[0mthe_number\u001b[0m \u001b[1;32mand\u001b[0m \u001b[0mtries\u001b[0m \u001b[1;33m<=\u001b[0m \u001b[1;36m10\u001b[0m\u001b[1;33m:\u001b[0m\u001b[1;33m\u001b[0m\u001b[1;33m\u001b[0m\u001b[0m\n",
      "\u001b[1;32m~\\anaconda3\\lib\\site-packages\\ipykernel\\kernelbase.py\u001b[0m in \u001b[0;36mraw_input\u001b[1;34m(self, prompt)\u001b[0m\n\u001b[0;32m    858\u001b[0m                 \u001b[1;34m\"raw_input was called, but this frontend does not support input requests.\"\u001b[0m\u001b[1;33m\u001b[0m\u001b[1;33m\u001b[0m\u001b[0m\n\u001b[0;32m    859\u001b[0m             )\n\u001b[1;32m--> 860\u001b[1;33m         return self._input_request(str(prompt),\n\u001b[0m\u001b[0;32m    861\u001b[0m             \u001b[0mself\u001b[0m\u001b[1;33m.\u001b[0m\u001b[0m_parent_ident\u001b[0m\u001b[1;33m,\u001b[0m\u001b[1;33m\u001b[0m\u001b[1;33m\u001b[0m\u001b[0m\n\u001b[0;32m    862\u001b[0m             \u001b[0mself\u001b[0m\u001b[1;33m.\u001b[0m\u001b[0m_parent_header\u001b[0m\u001b[1;33m,\u001b[0m\u001b[1;33m\u001b[0m\u001b[1;33m\u001b[0m\u001b[0m\n",
      "\u001b[1;32m~\\anaconda3\\lib\\site-packages\\ipykernel\\kernelbase.py\u001b[0m in \u001b[0;36m_input_request\u001b[1;34m(self, prompt, ident, parent, password)\u001b[0m\n\u001b[0;32m    902\u001b[0m             \u001b[1;32mexcept\u001b[0m \u001b[0mKeyboardInterrupt\u001b[0m\u001b[1;33m:\u001b[0m\u001b[1;33m\u001b[0m\u001b[1;33m\u001b[0m\u001b[0m\n\u001b[0;32m    903\u001b[0m                 \u001b[1;31m# re-raise KeyboardInterrupt, to truncate traceback\u001b[0m\u001b[1;33m\u001b[0m\u001b[1;33m\u001b[0m\u001b[1;33m\u001b[0m\u001b[0m\n\u001b[1;32m--> 904\u001b[1;33m                 \u001b[1;32mraise\u001b[0m \u001b[0mKeyboardInterrupt\u001b[0m\u001b[1;33m(\u001b[0m\u001b[1;34m\"Interrupted by user\"\u001b[0m\u001b[1;33m)\u001b[0m \u001b[1;32mfrom\u001b[0m \u001b[1;32mNone\u001b[0m\u001b[1;33m\u001b[0m\u001b[1;33m\u001b[0m\u001b[0m\n\u001b[0m\u001b[0;32m    905\u001b[0m             \u001b[1;32mexcept\u001b[0m \u001b[0mException\u001b[0m \u001b[1;32mas\u001b[0m \u001b[0me\u001b[0m\u001b[1;33m:\u001b[0m\u001b[1;33m\u001b[0m\u001b[1;33m\u001b[0m\u001b[0m\n\u001b[0;32m    906\u001b[0m                 \u001b[0mself\u001b[0m\u001b[1;33m.\u001b[0m\u001b[0mlog\u001b[0m\u001b[1;33m.\u001b[0m\u001b[0mwarning\u001b[0m\u001b[1;33m(\u001b[0m\u001b[1;34m\"Invalid Message:\"\u001b[0m\u001b[1;33m,\u001b[0m \u001b[0mexc_info\u001b[0m\u001b[1;33m=\u001b[0m\u001b[1;32mTrue\u001b[0m\u001b[1;33m)\u001b[0m\u001b[1;33m\u001b[0m\u001b[1;33m\u001b[0m\u001b[0m\n",
      "\u001b[1;31mKeyboardInterrupt\u001b[0m: Interrupted by user"
     ]
    }
   ],
   "source": [
    "#4.11\n",
    "\"\"\"Guess the Number\"\"\"\n",
    "import random\n",
    "\n",
    "the_number = random.randint(1, 1000)\n",
    "tries = 0\n",
    "\n",
    "def script():\n",
    "    for tries in range(10):\n",
    "        guess = int(input(\"Guess my number between 1 and 1000 with the fewest guesses: \"))\n",
    "        tries += 1\n",
    "        if guess == the_number and tries <= 10:\n",
    "            print(\"\\nEither you know the secret or you got lucky!\")\n",
    "            break\n",
    "        elif guess < the_number and tries < 10:\n",
    "            print(\"Too low. Try again.\")\n",
    "            tries += 1\n",
    "        elif guess > the_number and tries < 10:\n",
    "            print(\"Too high. Try again..\")\n",
    "            tries += 1\n",
    "        elif tries >= 11:\n",
    "            print(\"\\nYou should be able to do better!\")\n",
    "    restart = input(\"Would you like to restart this program?\")\n",
    "    if restart == \"yes\" or restart == \"y\":\n",
    "        script()\n",
    "    if restart == \"n\" or restart == \"no\":\n",
    "        print(\"Ending the game!\")\n",
    "script()"
   ]
  },
  {
   "cell_type": "code",
   "execution_count": 101,
   "metadata": {},
   "outputs": [
    {
     "name": "stdout",
     "output_type": "stream",
     "text": [
      "BANG !!!!!\n",
      "AND THEY'RE OFF !!!!!\n",
      "OUCH!!---------------------------------------------------------------------\n",
      "TORTOISE WINS!!! YAY!!!\n",
      "-H-T------------------------------------------------------------------\n",
      "TORTOISE WINS!!! YAY!!!\n",
      "H-----T---------------------------------------------------------------\n",
      "Hare wins.\n",
      "T--------H------------------------------------------------------------\n",
      "Hare wins.\n",
      "---T-----H------------------------------------------------------------\n",
      "Hare wins.\n",
      "------T---H-----------------------------------------------------------\n",
      "Hare wins.\n",
      "---------TH-----------------------------------------------------------\n",
      "TORTOISE WINS!!! YAY!!!\n",
      "----------H-T---------------------------------------------------------\n",
      "TORTOISE WINS!!! YAY!!!\n",
      "H--------------T------------------------------------------------------\n",
      "TORTOISE WINS!!! YAY!!!\n",
      "-H-------T------------------------------------------------------------\n",
      "TORTOISE WINS!!! YAY!!!\n",
      "--H-------T-----------------------------------------------------------\n",
      "TORTOISE WINS!!! YAY!!!\n",
      "H----------T----------------------------------------------------------\n",
      "TORTOISE WINS!!! YAY!!!\n",
      "-H------------T-------------------------------------------------------\n",
      "TORTOISE WINS!!! YAY!!!\n",
      "H--------------T------------------------------------------------------\n",
      "TORTOISE WINS!!! YAY!!!\n",
      "H---------------T-----------------------------------------------------\n",
      "TORTOISE WINS!!! YAY!!!\n",
      "-H-----------------T--------------------------------------------------\n",
      "TORTOISE WINS!!! YAY!!!\n",
      "--H----------T--------------------------------------------------------\n",
      "TORTOISE WINS!!! YAY!!!\n",
      "--H----T--------------------------------------------------------------\n",
      "Hare wins.\n",
      "----------TH----------------------------------------------------------\n",
      "TORTOISE WINS!!! YAY!!!\n",
      "---------H-T----------------------------------------------------------\n",
      "TORTOISE WINS!!! YAY!!!\n",
      "----------H---T-------------------------------------------------------\n",
      "TORTOISE WINS!!! YAY!!!\n",
      "H----------------T----------------------------------------------------\n",
      "TORTOISE WINS!!! YAY!!!\n",
      "H-----------------T---------------------------------------------------\n",
      "TORTOISE WINS!!! YAY!!!\n",
      "---------H-----------T------------------------------------------------\n",
      "TORTOISE WINS!!! YAY!!!\n",
      "---------H--------------T---------------------------------------------\n",
      "TORTOISE WINS!!! YAY!!!\n",
      "------------------H------T--------------------------------------------\n",
      "Hare wins.\n",
      "--------------------------TH------------------------------------------\n",
      "TORTOISE WINS!!! YAY!!!\n",
      "----------------------------HT----------------------------------------\n",
      "TORTOISE WINS!!! YAY!!!\n",
      "----------------H---------------T-------------------------------------\n",
      "TORTOISE WINS!!! YAY!!!\n",
      "-----------------H---------------T------------------------------------\n",
      "TORTOISE WINS!!! YAY!!!\n",
      "-----------------H------------------T---------------------------------\n",
      "TORTOISE WINS!!! YAY!!!\n",
      "---------------H-----------------------T------------------------------\n",
      "TORTOISE WINS!!! YAY!!!\n",
      "---------------H-----------------T------------------------------------\n",
      "TORTOISE WINS!!! YAY!!!\n",
      "-------------H----------------------T---------------------------------\n",
      "TORTOISE WINS!!! YAY!!!\n",
      "-----------H-------------------------T--------------------------------\n",
      "TORTOISE WINS!!! YAY!!!\n",
      "H---------------------------------------T-----------------------------\n",
      "TORTOISE WINS!!! YAY!!!\n",
      "H----------------------------------------T----------------------------\n",
      "TORTOISE WINS!!! YAY!!!\n",
      "---------H--------------------------------T---------------------------\n",
      "TORTOISE WINS!!! YAY!!!\n",
      "H--------------------------------------------T------------------------\n",
      "TORTOISE WINS!!! YAY!!!\n",
      "H---------------------------------------------T-----------------------\n",
      "TORTOISE WINS!!! YAY!!!\n",
      "H---------------------------------------T-----------------------------\n",
      "TORTOISE WINS!!! YAY!!!\n",
      "-H---------------------------------------T----------------------------\n",
      "TORTOISE WINS!!! YAY!!!\n",
      "-H------------------------------------------T-------------------------\n",
      "TORTOISE WINS!!! YAY!!!\n",
      "H--------------------------------------------T------------------------\n",
      "TORTOISE WINS!!! YAY!!!\n",
      "---------H------------------------------------T-----------------------\n",
      "TORTOISE WINS!!! YAY!!!\n",
      "------------------H------------------------------T--------------------\n",
      "TORTOISE WINS!!! YAY!!!\n",
      "-------------------H--------------------------------T-----------------\n",
      "TORTOISE WINS!!! YAY!!!\n",
      "--------------------H----------------------------------T--------------\n",
      "TORTOISE WINS!!! YAY!!!\n",
      "---------------------H------------------------------------T-----------\n",
      "TORTOISE WINS!!! YAY!!!\n",
      "------------------------------H----------------------------T----------\n",
      "TORTOISE WINS!!! YAY!!!\n",
      "---------------------------------------H----------------------T-------\n",
      "TORTOISE WINS!!! YAY!!!\n",
      "------------------------------------------------H----------------T----\n",
      "TORTOISE WINS!!! YAY!!!\n",
      "----------------------------------------------H-------------------T---\n",
      "TORTOISE WINS!!! YAY!!!\n",
      "----------------------------------------------H----------------------T\n",
      "TORTOISE WINS!!! YAY!!!\n",
      "----------------------------------H-----------------------------------\n"
     ]
    }
   ],
   "source": [
    "#4.12\n",
    "\n",
    "import random\n",
    "\n",
    "tortoiseStep = 0\n",
    "hareStep = 0\n",
    "\n",
    "def getTortoiseMove()->int:\n",
    "    randomNum = random.randint(1,10)\n",
    "    if(randomNum in range(1,6)):\n",
    "        return 3\n",
    "    elif(randomNum in range(6,8)):\n",
    "        return -6\n",
    "    else:\n",
    "        return 1\n",
    "   \n",
    "def getHareMove()->int:\n",
    "    randomNum = random.randint(1,10)\n",
    "    if(randomNum in range(1,3)):\n",
    "        return 0\n",
    "    elif(randomNum in range(3,5)):\n",
    "        return 9\n",
    "    elif(randomNum == 5):\n",
    "        return -12\n",
    "    elif(randomNum in range(6,9)):\n",
    "        return 1\n",
    "    else:\n",
    "        return -2\n",
    "\n",
    "print(\"BANG !!!!!\\nAND THEY'RE OFF !!!!!\")  \n",
    "while(True):\n",
    "    for i in range(70):\n",
    "        if(tortoiseStep==hareStep and i == tortoiseStep):\n",
    "            print('OUCH!!',end='')\n",
    "        else:\n",
    "            if(i==tortoiseStep):\n",
    "                print('T',end='')\n",
    "            elif(i==hareStep):\n",
    "                print('H',end='')\n",
    "            else:\n",
    "                print('-',end='')\n",
    "    print()\n",
    "\n",
    "    if(tortoiseStep>=70 or hareStep >=70):\n",
    "        break\n",
    "\n",
    "    tortoiseNextStep = getTortoiseMove()\n",
    "    hareNextStep = getHareMove()\n",
    "    tortoiseStep = tortoiseStep + tortoiseNextStep\n",
    "    hareStep = hareStep + hareNextStep\n",
    "\n",
    "    if(tortoiseStep<0):\n",
    "        tortoiseStep = 0\n",
    "    if(hareStep<0):\n",
    "        hareStep = 0\n",
    "\n",
    "    if(tortoiseStep>hareStep):\n",
    "        print('TORTOISE WINS!!! YAY!!!')\n",
    "    elif(tortoiseStep<hareStep):\n",
    "        print('Hare wins.')\n",
    "    else:\n",
    "        print('It is a tie')"
   ]
  },
  {
   "cell_type": "code",
   "execution_count": null,
   "metadata": {},
   "outputs": [],
   "source": []
  }
 ],
 "metadata": {
  "kernelspec": {
   "display_name": "Python 3",
   "language": "python",
   "name": "python3"
  },
  "language_info": {
   "codemirror_mode": {
    "name": "ipython",
    "version": 3
   },
   "file_extension": ".py",
   "mimetype": "text/x-python",
   "name": "python",
   "nbconvert_exporter": "python",
   "pygments_lexer": "ipython3",
   "version": "3.8.3"
  }
 },
 "nbformat": 4,
 "nbformat_minor": 4
}
