{
 "cells": [
  {
   "cell_type": "code",
   "execution_count": 3,
   "metadata": {
    "scrolled": true
   },
   "outputs": [
    {
     "data": {
      "text/plain": [
       "23.2"
      ]
     },
     "execution_count": 3,
     "metadata": {},
     "output_type": "execute_result"
    }
   ],
   "source": [
    "total = 10.8 + 12.2 + .2\n",
    "total"
   ]
  },
  {
   "cell_type": "code",
   "execution_count": 4,
   "metadata": {},
   "outputs": [
    {
     "data": {
      "text/plain": [
       "-3"
      ]
     },
     "execution_count": 4,
     "metadata": {},
     "output_type": "execute_result"
    }
   ],
   "source": [
    "3 * (4-5)"
   ]
  },
  {
   "cell_type": "code",
   "execution_count": 5,
   "metadata": {},
   "outputs": [
    {
     "name": "stdout",
     "output_type": "stream",
     "text": [
      "Welcome to Python!\n"
     ]
    }
   ],
   "source": [
    "print('Welcome to Python!')"
   ]
  },
  {
   "cell_type": "code",
   "execution_count": 7,
   "metadata": {},
   "outputs": [
    {
     "name": "stdout",
     "output_type": "stream",
     "text": [
      "this is taking a longer string so we \n",
      " split it over two lines\n"
     ]
    }
   ],
   "source": [
    "print('this is taking a longer string so we \\n split it over two lines')"
   ]
  },
  {
   "cell_type": "code",
   "execution_count": 8,
   "metadata": {},
   "outputs": [
    {
     "data": {
      "text/plain": [
       "str"
      ]
     },
     "execution_count": 8,
     "metadata": {},
     "output_type": "execute_result"
    }
   ],
   "source": [
    "type('word')"
   ]
  },
  {
   "cell_type": "code",
   "execution_count": 9,
   "metadata": {},
   "outputs": [
    {
     "name": "stdout",
     "output_type": "stream",
     "text": [
      "int5.2 truncates 5.2 to 5\n"
     ]
    }
   ],
   "source": [
    "print('int5.2', 'truncates 5.2 to', int(5.2))"
   ]
  },
  {
   "cell_type": "code",
   "execution_count": 10,
   "metadata": {},
   "outputs": [
    {
     "name": "stdout",
     "output_type": "stream",
     "text": [
      "This is a lengthy \n",
      " multiline string containing a few lines \n",
      " of text\n"
     ]
    }
   ],
   "source": [
    "print(\"\"\"This is a lengthy \\n multiline string containing a few lines \\n of text\"\"\")"
   ]
  },
  {
   "cell_type": "code",
   "execution_count": 11,
   "metadata": {},
   "outputs": [
    {
     "name": "stdout",
     "output_type": "stream",
     "text": [
      "Whats your name?Justin\n"
     ]
    }
   ],
   "source": [
    "name = input(\"Whats your name?\")"
   ]
  },
  {
   "cell_type": "code",
   "execution_count": 12,
   "metadata": {},
   "outputs": [
    {
     "data": {
      "text/plain": [
       "'Justin'"
      ]
     },
     "execution_count": 12,
     "metadata": {},
     "output_type": "execute_result"
    }
   ],
   "source": [
    "name"
   ]
  },
  {
   "cell_type": "code",
   "execution_count": 14,
   "metadata": {},
   "outputs": [
    {
     "name": "stdout",
     "output_type": "stream",
     "text": [
      "Justin\n"
     ]
    }
   ],
   "source": [
    "print(name)"
   ]
  },
  {
   "cell_type": "code",
   "execution_count": 16,
   "metadata": {},
   "outputs": [
    {
     "name": "stdout",
     "output_type": "stream",
     "text": [
      "Enter two integers, and I will tell you the relationships they saatisfy.\n",
      "Enter first integer: 2\n",
      "Enter second integer: 4\n",
      "2 is not equal to 4\n",
      "2 iss less than 4\n",
      "2 is less than or equal to 4\n"
     ]
    }
   ],
   "source": [
    "\"\"\"Comparing integers using if statements and comparison operators.\"\"\"\n",
    "\n",
    "print('Enter two integers, and I will tell you', 'the relationships they satisfy.')\n",
    "\n",
    "#read first integer\n",
    "number1 = int(input('Enter first integer: '))\n",
    "\n",
    "#read second integer\n",
    "number2 = int(input('Enter second integer: '))\n",
    "\n",
    "if number1 == number2: \n",
    "    print(number1, 'is equal to', number2)\n",
    "\n",
    "if number1 != number2: \n",
    "    print(number1, 'is not equal to', number2)\n",
    "\n",
    "if number1 < number2: \n",
    "    print(number1, 'is less than', number2)\n",
    "\n",
    "if number1 > number2: \n",
    "    print(numberr1, 'is greater than', number2)\n",
    "\n",
    "if number1 <= number2:\n",
    "    print(number1, 'is less than or equal to', number2)\n",
    "\n",
    "if number1 >= number2:\n",
    "    print(number1, 'is greater than or equal to', number2)"
   ]
  },
  {
   "cell_type": "code",
   "execution_count": 18,
   "metadata": {},
   "outputs": [
    {
     "name": "stdout",
     "output_type": "stream",
     "text": [
      "P r o g r a m m i n g "
     ]
    }
   ],
   "source": [
    "for character in 'Programming': print(character, end=' ')"
   ]
  },
  {
   "cell_type": "code",
   "execution_count": 19,
   "metadata": {},
   "outputs": [
    {
     "data": {
      "text/plain": [
       "-3.25"
      ]
     },
     "execution_count": 19,
     "metadata": {},
     "output_type": "execute_result"
    }
   ],
   "source": [
    "-13/4"
   ]
  },
  {
   "cell_type": "code",
   "execution_count": 20,
   "metadata": {},
   "outputs": [
    {
     "name": "stdout",
     "output_type": "stream",
     "text": [
      "Welcome to the mL Converter\n",
      "Enter your milliliter amount 0\n",
      "Please enter a valid mL amount\n"
     ]
    }
   ],
   "source": [
    "\"\"\"mL to Tablespoon and Teaspoon Converter\"\"\"\n",
    "\n",
    "#welcome message\n",
    "print (\"Welcome to the mL Converter\")\n",
    "\n",
    "#mL input\n",
    "mL = float(input (\"Enter your milliliter amount \"))\n",
    "\n",
    "#variables\n",
    "tablespoon = (mL/15)\n",
    "teaspoon = (mL/5)\n",
    "if mL > 0.00:\n",
    "    print(float(tablespoon), (\"tablespoons and\"))\n",
    "    print(float(teaspoon), (\"teaspoons\"))\n",
    "else:\n",
    "    print(\"Please enter a valid mL amount\")"
   ]
  },
  {
   "cell_type": "code",
   "execution_count": null,
   "metadata": {},
   "outputs": [],
   "source": []
  }
 ],
 "metadata": {
  "kernelspec": {
   "display_name": "Python 3",
   "language": "python",
   "name": "python3"
  },
  "language_info": {
   "codemirror_mode": {
    "name": "ipython",
    "version": 3
   },
   "file_extension": ".py",
   "mimetype": "text/x-python",
   "name": "python",
   "nbconvert_exporter": "python",
   "pygments_lexer": "ipython3",
   "version": "3.8.3"
  }
 },
 "nbformat": 4,
 "nbformat_minor": 4
}
