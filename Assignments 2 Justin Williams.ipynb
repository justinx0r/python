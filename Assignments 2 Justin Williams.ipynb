{
 "cells": [
  {
   "cell_type": "code",
   "execution_count": 19,
   "metadata": {},
   "outputs": [
    {
     "name": "stdout",
     "output_type": "stream",
     "text": [
      "Enter the integer one: 1\n",
      "Enter the integer two: 2\n"
     ]
    }
   ],
   "source": [
    "#//3.1\n",
    "\n",
    "#pseudocode from figure 3.3 below\n",
    "#Prompt the user to enter the first integer\n",
    "#Input the first integer\n",
    "#Prompt the user to enter the second integer\n",
    "#Input the second integer\n",
    "#Add first integer and second integer, store their sum\n",
    "#Display the numbers and their sum\n",
    "\n",
    "int1 = int(input('Enter the integer one: '))\n",
    "int2 = int(input('Enter the integer two: '))\n",
    "sumint = int1 + int2\n",
    "\n",
    "while int1 != 1 and int2 != 2:\n",
    "    print('Enter the correct integer')\n",
    "else \n",
    "    return sumint"
   ]
  },
  {
   "cell_type": "code",
   "execution_count": 10,
   "metadata": {},
   "outputs": [
    {
     "ename": "SyntaxError",
     "evalue": "invalid syntax (<ipython-input-10-295a8ef9847a>, line 3)",
     "output_type": "error",
     "traceback": [
      "\u001b[1;36m  File \u001b[1;32m\"<ipython-input-10-295a8ef9847a>\"\u001b[1;36m, line \u001b[1;32m3\u001b[0m\n\u001b[1;33m    else\u001b[0m\n\u001b[1;37m         ^\u001b[0m\n\u001b[1;31mSyntaxError\u001b[0m\u001b[1;31m:\u001b[0m invalid syntax\n"
     ]
    }
   ],
   "source": [
    "while int1 != 1 and int2 != 2:\n",
    "    print('Enter the correct integer')\n",
    "else \n",
    "    sumint=sumint"
   ]
  },
  {
   "cell_type": "code",
   "execution_count": 21,
   "metadata": {},
   "outputs": [
    {
     "name": "stdout",
     "output_type": "stream",
     "text": [
      "a =  7 \n",
      "b = 7\n"
     ]
    }
   ],
   "source": [
    "#//3.2\n",
    "#the variables need to be on separate lines\n",
    "\n",
    "b = 7\n",
    "a = b\n",
    "\n",
    "print('a = ', a, '\\nb =', b)"
   ]
  },
  {
   "cell_type": "code",
   "execution_count": 22,
   "metadata": {},
   "outputs": [
    {
     "name": "stdout",
     "output_type": "stream",
     "text": [
      ">>>>>>>>>><<<<<<<<<<>>>>>>>>>><<<<<<<<<<>>>>>>>>>><<<<<<<<<<>>>>>>>>>><<<<<<<<<<>>>>>>>>>><<<<<<<<<<"
     ]
    }
   ],
   "source": [
    "#//3.3\n",
    "\n",
    "#this code looks at a range 1-10, specifies a column in this range, \n",
    "#then puts the > 10 times and then puts < the 11th time\n",
    "\n",
    "for row in range(10):\n",
    "    for column in range(10):\n",
    "        print('<' if row % 2 == 1 else '>', end='')"
   ]
  },
  {
   "cell_type": "code",
   "execution_count": 30,
   "metadata": {},
   "outputs": [
    {
     "name": "stdout",
     "output_type": "stream",
     "text": [
      "@@@@@@@ \n",
      "@@@@@@@ \n"
     ]
    }
   ],
   "source": [
    "#//3.4\n",
    "\n",
    "for row in range(2):\n",
    "    for column in range(1):\n",
    "        print('@@@@@@@', '\\n', end='')"
   ]
  },
  {
   "cell_type": "code",
   "execution_count": 31,
   "metadata": {},
   "outputs": [
    {
     "name": "stdout",
     "output_type": "stream",
     "text": [
      "Enter two integers, and I will tell you the relationships they satisfy.\n",
      "Enter first integer: 4\n",
      "Enter second integer: 4\n",
      "4 is equal to  4\n",
      "4 is less than or equal to  4\n",
      "4 is greater than or equal to  4\n"
     ]
    }
   ],
   "source": [
    "#//3.5\n",
    "\n",
    "\"\"\"Comparing integers using if statements and comparison operators.\"\"\"\n",
    "\n",
    "print('Enter two integers, and I will tell you',\n",
    "'the relationships they satisfy.')\n",
    "\n",
    "#read first number\n",
    "number1=int(input(\"Enter first integer: \"))\n",
    "\n",
    "#read second number\n",
    "number2=int(input(\"Enter second integer: \"))\n",
    "\n",
    "\n",
    "if number1==number2:\n",
    "    print(number1,\"is equal to \",number2)\n",
    "else:\n",
    "    print(number1,\"is not equal to \",number2)\n",
    "   \n",
    "if number1>number2:\n",
    "        print(number1,\"is greater than \",number2)\n",
    "else:\n",
    "        print(number1,\"is less than or equal to \",number2)\n",
    "        \n",
    "if number1<number2:\n",
    "        print(number1,\"is less than \",number2)\n",
    "else:\n",
    "        print(number1,\"is greater than or equal to \",number2)"
   ]
  },
  {
   "cell_type": "code",
   "execution_count": 39,
   "metadata": {},
   "outputs": [
    {
     "name": "stdout",
     "output_type": "stream",
     "text": [
      "What is your problem help\n",
      "Have you had this problem before? Enter yes or nono\n",
      "Well, you have it now\n"
     ]
    }
   ],
   "source": [
    "#//3.6\n",
    "\n",
    "# // Turing Test\n",
    "\n",
    "#enter your problem\n",
    "problem = input(\"What is your problem \")\n",
    "\n",
    "#yes or no if it's recurring\n",
    "recurring = input(\"Have you had this problem before? Enter yes or no\")\n",
    "yes = True\n",
    "no = False\n",
    "if recurring == \"yes\":\n",
    "    print('Well, you have it again')\n",
    "else:\n",
    "    print('Well, you have it now')"
   ]
  },
  {
   "cell_type": "code",
   "execution_count": 40,
   "metadata": {},
   "outputs": [
    {
     "name": "stdout",
     "output_type": "stream",
     "text": [
      "number\tsquare\tcube\n",
      "0\t0\t0\n",
      "1\t1\t1\n",
      "2\t4\t8\n",
      "3\t9\t27\n",
      "4\t16\t64\n",
      "5\t25\t125\n"
     ]
    }
   ],
   "source": [
    "#//3.7\n",
    "\n",
    "print('number\\tsquare\\tcube')             \n",
    "for i in range(6):\n",
    "   print('{}\\t{}\\t{}'.format(i,i**2,i**3))"
   ]
  },
  {
   "cell_type": "code",
   "execution_count": 63,
   "metadata": {},
   "outputs": [
    {
     "name": "stdout",
     "output_type": "stream",
     "text": [
      "Enter 2393, 12104, and 23984 and then press enter to quit: 2393\n",
      "Enter 2393, 12104, and 23984 and then press enter to quit: 12104\n",
      "Enter 2393, 12104, and 23984 and then press enter to quit: 23984\n",
      "Enter 2393, 12104, and 23984 and then press enter to quit: \n",
      "The sum is 36088.0\n",
      "The product is 290302336.0\n",
      "The average is 1.5046697798532356\n",
      "The minimimum is 2\n",
      "The maximum is 9\n"
     ]
    }
   ],
   "source": [
    "#//3.8\n",
    "#2393, 12104, 23984\n",
    "count = 0\n",
    "sum = 0.0\n",
    "product = 1.0\n",
    "data = input(\"Enter 2393, 12104, and 23984 and then press enter to quit: \")\n",
    "\n",
    "while True: \n",
    "    data = input(\"Enter 2393, 12104, and 23984 and then press enter to quit: \")\n",
    "    \n",
    "    if data == \"\":\n",
    "        break\n",
    "\n",
    "    number = float(data)\n",
    "    \n",
    "    #calculate sum, product, and average\n",
    "    sum += number\n",
    "    product *= number\n",
    "    average = sum / number\n",
    "    minimum = min(data)\n",
    "    maximum = max(data)\n",
    "\n",
    "#display results\n",
    "print(\"The sum is\", sum)\n",
    "print(\"The product is\", product)\n",
    "print(\"The average is\", average)\n",
    "print(\"The minimimum is\", minimum)\n",
    "print(\"The maximum is\", maximum)"
   ]
  },
  {
   "cell_type": "code",
   "execution_count": null,
   "metadata": {},
   "outputs": [],
   "source": [
    "#//3.9\n",
    "\n",
    "for number in input(\"Enter number: \"): \n",
    "    print(number, end=' ')"
   ]
  },
  {
   "cell_type": "code",
   "execution_count": 84,
   "metadata": {},
   "outputs": [
    {
     "name": "stdout",
     "output_type": "stream",
     "text": [
      "Enter the principal amount, enter this value again in the next input box.10\n",
      "10\n",
      "Enter the interest rate enter this value again in the next input box.10\n",
      "10\n",
      "Enter the total number of years you're investing this amount,  enter this value again in the next input box.10\n",
      "10\n",
      "100.0\n"
     ]
    }
   ],
   "source": [
    "#//3.10\n",
    "\n",
    "#2.12 - you can  enter values for 10, 20, and 30 years in the input box and you will get the correct output\n",
    "#30 years = 7612.26\n",
    "#20 years = 3869.68\n",
    "#10 years = 1967.15\n",
    "\n",
    "princ = 0\n",
    "interest = 0.0\n",
    "totYears = 0\n",
    "year = 1\n",
    "\n",
    "#Get the amont of principal invested.\n",
    "input(\"Enter the principal amount, enter this value again in the next input box.\")\n",
    "princ = int(input())\n",
    "\n",
    "#Get the interest rate being applied.\n",
    "input(\"Enter the interest rate enter this value again in the next input box.\")\n",
    "interest = float(input())\n",
    "\n",
    "#Get the total amount of years principal is invested.\n",
    "input(\"Enter the total number of years you're investing this amount,  enter this value again in the next input box.\")\n",
    "totYears = int(input())\n",
    "\n",
    "for years in range(1, totYears):\n",
    "    total=year*interest*princ\n",
    "    years += 1\n",
    "\n",
    "print (total)\n",
    "\n"
   ]
  },
  {
   "cell_type": "markdown",
   "metadata": {},
   "source": [
    "# "
   ]
  },
  {
   "cell_type": "code",
   "execution_count": null,
   "metadata": {},
   "outputs": [],
   "source": []
  }
 ],
 "metadata": {
  "kernelspec": {
   "display_name": "Python 3",
   "language": "python",
   "name": "python3"
  },
  "language_info": {
   "codemirror_mode": {
    "name": "ipython",
    "version": 3
   },
   "file_extension": ".py",
   "mimetype": "text/x-python",
   "name": "python",
   "nbconvert_exporter": "python",
   "pygments_lexer": "ipython3",
   "version": "3.8.3"
  }
 },
 "nbformat": 4,
 "nbformat_minor": 4
}
